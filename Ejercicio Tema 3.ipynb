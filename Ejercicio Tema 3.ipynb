{
 "cells": [
  {
   "cell_type": "code",
   "execution_count": 1,
   "id": "eb038aeb",
   "metadata": {},
   "outputs": [
    {
     "name": "stdout",
     "output_type": "stream",
     "text": [
      "¿Con que tabla desea iniciar?1\n",
      "¿Con que tabla desea terminar?1\n",
      "¿Hasta que número quieres iniciar la multiplicación?1\n",
      "¿Hasta que número quieres terminar la multiplicación?1\n",
      "1  x  1  =  1\n",
      "\n",
      "\n"
     ]
    }
   ],
   "source": [
    "# Tabla infinita\n",
    "\n",
    "# El usuario va a definir el multiplicando y el multiplicador, tambien el tamaño de la tabla.\n",
    "\n",
    "inicio = int(input(\"¿Con que tabla desea iniciar?\"))\n",
    "final = int(input(\"¿Con que tabla desea terminar?\"))\n",
    "num1 = int(input(\"¿Hasta que número quieres iniciar la multiplicación?\"))\n",
    "num2 = int(input(\"¿Hasta que número quieres terminar la multiplicación?\"))\n",
    "\n",
    "\n",
    "for i in range (inicio,final+1):\n",
    "    for it in range (num1,num2+1):\n",
    "        resultado = i * it\n",
    "        print (i, \" x \", it, \" = \", resultado)\n",
    "        \n",
    "    print(\"\\n\")\n",
    "        "
   ]
  },
  {
   "cell_type": "code",
   "execution_count": null,
   "id": "92849598",
   "metadata": {},
   "outputs": [],
   "source": []
  }
 ],
 "metadata": {
  "kernelspec": {
   "display_name": "Python 3 (ipykernel)",
   "language": "python",
   "name": "python3"
  },
  "language_info": {
   "codemirror_mode": {
    "name": "ipython",
    "version": 3
   },
   "file_extension": ".py",
   "mimetype": "text/x-python",
   "name": "python",
   "nbconvert_exporter": "python",
   "pygments_lexer": "ipython3",
   "version": "3.11.4"
  }
 },
 "nbformat": 4,
 "nbformat_minor": 5
}
