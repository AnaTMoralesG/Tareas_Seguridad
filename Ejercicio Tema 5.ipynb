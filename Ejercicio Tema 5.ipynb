{
 "cells": [
  {
   "cell_type": "code",
   "execution_count": 1,
   "id": "25edab83",
   "metadata": {},
   "outputs": [],
   "source": [
    "persona = {\n",
    "    \"nombre\":\"Ana Teresa\",\n",
    "    \"ap_paterno\":\"morales\",\n",
    "    \"ap_materno\":\"garcia\",\n",
    "    \"edad\":20,\n",
    "    \"estatura\":1.75,\n",
    "    \"peso\":70\n",
    "    }"
   ]
  },
  {
   "cell_type": "code",
   "execution_count": 2,
   "id": "fcdd2d46",
   "metadata": {},
   "outputs": [],
   "source": [
    "def imc(peso,estatura):\n",
    "    return peso/estatura**2\n",
    "\n",
    "persona_imc = (imc(persona[\"peso\"],persona[\"estatura\"]))       "
   ]
  },
  {
   "cell_type": "code",
   "execution_count": 3,
   "id": "a1981623",
   "metadata": {},
   "outputs": [
    {
     "name": "stdout",
     "output_type": "stream",
     "text": [
      "Estás en tu peso ideal\n"
     ]
    }
   ],
   "source": [
    "def nivel_de_peso(p_imc):\n",
    "    if p_imc < 18.5:\n",
    "        print(\"Estas desnutrido\")\n",
    "    \n",
    "    elif p_imc >= 18.5 and p_imc <= 24.9:\n",
    "        print(\"Estás en tu peso ideal\")\n",
    "        \n",
    "    elif p_imc >= 25.0 and p_imc <= 29.9:\n",
    "        print(\"Tienes sobrepeso\")\n",
    "    else:\n",
    "        print(\"Tienes obesidad\")\n",
    "\n",
    "nivel_de_peso(persona_imc)"
   ]
  },
  {
   "cell_type": "code",
   "execution_count": null,
   "id": "afd70d48",
   "metadata": {},
   "outputs": [],
   "source": []
  }
 ],
 "metadata": {
  "kernelspec": {
   "display_name": "Python 3 (ipykernel)",
   "language": "python",
   "name": "python3"
  },
  "language_info": {
   "codemirror_mode": {
    "name": "ipython",
    "version": 3
   },
   "file_extension": ".py",
   "mimetype": "text/x-python",
   "name": "python",
   "nbconvert_exporter": "python",
   "pygments_lexer": "ipython3",
   "version": "3.11.4"
  }
 },
 "nbformat": 4,
 "nbformat_minor": 5
}
