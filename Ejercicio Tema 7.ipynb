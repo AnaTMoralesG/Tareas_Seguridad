{
 "cells": [
  {
   "cell_type": "code",
   "execution_count": 2,
   "id": "8aa06e38",
   "metadata": {
    "scrolled": true
   },
   "outputs": [
    {
     "name": "stdout",
     "output_type": "stream",
     "text": [
      "Ingrese el primer número para la suma: 1\n",
      "Ingrese el segundo número para la suma: 1\n",
      "El resultado es: 2\n",
      "Ingrese el primer número para la resta: 1\n",
      "Ingrese el segundo número para la resta: 1\n",
      "El resultado es: 0\n",
      "Ingrese el primer número para la división: 1\n",
      "Ingrese el segundo número para la división: 1\n",
      "El resultado es: 1.0\n",
      "Ingrese el primer número a elevar: 1\n",
      "Ingrese el segundo número con el cuál se elevará : 1\n",
      "El resultado es: 1\n",
      "Ingrese el primer número al que le sacará la raíz: 1\n",
      "El resultado es: 1.0\n",
      "Ingrese el primer número para la multiplicación: 1\n",
      "Ingrese el segundo número para la multiplicación: 1\n",
      "El resultado es: 1\n"
     ]
    }
   ],
   "source": [
    "from matematicas import suma, multiplicacion, raiz, exponente, division, resta\n",
    "\n",
    "suma.suma()\n",
    "resta.resta()\n",
    "division.division()\n",
    "exponente.exponente()\n",
    "raiz.raiz()\n",
    "multiplicacion.multiplicacion()"
   ]
  },
  {
   "cell_type": "markdown",
   "id": "523307f2",
   "metadata": {},
   "source": []
  }
 ],
 "metadata": {
  "kernelspec": {
   "display_name": "Python 3 (ipykernel)",
   "language": "python",
   "name": "python3"
  },
  "language_info": {
   "codemirror_mode": {
    "name": "ipython",
    "version": 3
   },
   "file_extension": ".py",
   "mimetype": "text/x-python",
   "name": "python",
   "nbconvert_exporter": "python",
   "pygments_lexer": "ipython3",
   "version": "3.11.4"
  }
 },
 "nbformat": 4,
 "nbformat_minor": 5
}
